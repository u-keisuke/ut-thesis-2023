{
 "cells": [
  {
   "cell_type": "code",
   "execution_count": 27,
   "metadata": {},
   "outputs": [],
   "source": [
    "import pickle\n",
    "\n",
    "with open('../logs/20231220-230916/average_strategy_profile.pkl', 'rb') as f:\n",
    "    average_strategy_profile_dict = pickle.load(f)"
   ]
  },
  {
   "cell_type": "code",
   "execution_count": 34,
   "metadata": {},
   "outputs": [
    {
     "data": {
      "text/plain": [
       "{-1: {((), ()): {'0,1': 0.16666666666666666,\n",
       "   '0,2': 0.16666666666666666,\n",
       "   '1,0': 0.16666666666666666,\n",
       "   '1,2': 0.16666666666666666,\n",
       "   '2,0': 0.16666666666666666,\n",
       "   '2,1': 0.16666666666666666}},\n",
       " 0: {((0,), ()): {'check': 0.8013574371498514, 'bet': 0.1986425628501483},\n",
       "  ((0,), ('check', 'bet')): {'fold': 0.9999653404455823,\n",
       "   'call': 3.46595544176978e-05},\n",
       "  ((1,), ()): {'check': 0.9996157834314707, 'bet': 0.0003842165685294227},\n",
       "  ((1,), ('check', 'bet')): {'fold': 0.46273636040059035,\n",
       "   'call': 0.5372636395994097},\n",
       "  ((2,), ()): {'check': 0.37336675938495084, 'bet': 0.6266332406150498},\n",
       "  ((2,), ('check', 'bet')): {'fold': 7.438983520299323e-05,\n",
       "   'call': 0.999925610164797}},\n",
       " 1: {((1,), ('check',)): {'check': 0.9995808546525132,\n",
       "   'bet': 0.0004191453474866429},\n",
       "  ((1,), ('bet',)): {'fold': 0.6641378007416304, 'call': 0.3358621992583689},\n",
       "  ((2,), ('check',)): {'check': 5.554938340184424e-05,\n",
       "   'bet': 0.9999444506165982},\n",
       "  ((2,), ('bet',)): {'fold': 5.554938340184424e-05,\n",
       "   'call': 0.9999444506165982},\n",
       "  ((0,), ('check',)): {'check': 0.6624565241606849, 'bet': 0.3375434758393168},\n",
       "  ((0,), ('bet',)): {'fold': 0.9999444506165982,\n",
       "   'call': 5.554938340184424e-05}}}"
      ]
     },
     "execution_count": 34,
     "metadata": {},
     "output_type": "execute_result"
    }
   ],
   "source": [
    "average_strategy_profile_dict[9000]"
   ]
  },
  {
   "cell_type": "code",
   "execution_count": 23,
   "metadata": {},
   "outputs": [],
   "source": [
    "a = {}\n",
    "\n",
    "a[(1,2)] = 1\n"
   ]
  },
  {
   "cell_type": "code",
   "execution_count": 24,
   "metadata": {},
   "outputs": [
    {
     "data": {
      "text/plain": [
       "{(1, 2): 1}"
      ]
     },
     "execution_count": 24,
     "metadata": {},
     "output_type": "execute_result"
    }
   ],
   "source": [
    "a"
   ]
  },
  {
   "cell_type": "code",
   "execution_count": null,
   "metadata": {},
   "outputs": [],
   "source": []
  }
 ],
 "metadata": {
  "kernelspec": {
   "display_name": "ut-thesis",
   "language": "python",
   "name": "python3"
  },
  "language_info": {
   "codemirror_mode": {
    "name": "ipython",
    "version": 3
   },
   "file_extension": ".py",
   "mimetype": "text/x-python",
   "name": "python",
   "nbconvert_exporter": "python",
   "pygments_lexer": "ipython3",
   "version": "3.8.16"
  }
 },
 "nbformat": 4,
 "nbformat_minor": 2
}
