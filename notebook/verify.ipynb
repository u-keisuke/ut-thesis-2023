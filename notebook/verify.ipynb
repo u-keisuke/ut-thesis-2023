{
 "cells": [
  {
   "cell_type": "code",
   "execution_count": 1,
   "metadata": {},
   "outputs": [],
   "source": [
    "# load json\n",
    "import json\n",
    "with open(\"../table.json\", \"r\") as f:\n",
    "    table = json.load(f)\n",
    "\n",
    "import sys\n",
    "sys.path.append(\"../\")\n",
    "\n",
    "from src.game import KuhnPoker\n",
    "from src.cfr import normalize, make_strategy, CFR, calculate_p_i, possible_history, compute_exploitability\n",
    "\n",
    "\n",
    "game = KuhnPoker()"
   ]
  },
  {
   "cell_type": "code",
   "execution_count": 2,
   "metadata": {},
   "outputs": [
    {
     "name": "stdout",
     "output_type": "stream",
     "text": [
      "01 0?\n",
      "01 p possible history 01\n",
      "01p 0?p\n",
      "01pp 0?pp\n",
      "terminal -1\n",
      "01pb 0?pb\n",
      "01pb p possible history 01pb\n",
      "01pbp 0?pbp\n",
      "terminal -1\n",
      "01pb p expected utility -1\n",
      "01pb p possible history 02pb\n",
      "02pbp 0?pbp\n",
      "terminal -1\n",
      "01pb p expected utility -1\n",
      "01pb b possible history 01pb\n",
      "01pbb 0?pbb\n",
      "terminal -2\n",
      "01pb b expected utility -2\n",
      "01pb b possible history 02pb\n",
      "02pbb 0?pbb\n",
      "terminal -2\n",
      "01pb b expected utility -2\n",
      "best response value -1\n",
      "expected utility -0.9999999999999999\n",
      "01 p expected utility -0.9999999999999999\n",
      "01 p possible history 02\n",
      "02p 0?p\n",
      "02pp 0?pp\n",
      "terminal -1\n",
      "02pb 0?pb\n",
      "02pb p possible history 01pb\n",
      "01pbp 0?pbp\n",
      "terminal -1\n",
      "02pb p expected utility -1\n",
      "02pb p possible history 02pb\n",
      "02pbp 0?pbp\n",
      "terminal -1\n",
      "02pb p expected utility -1\n",
      "02pb b possible history 01pb\n",
      "01pbb 0?pbb\n",
      "terminal -2\n",
      "02pb b expected utility -2\n",
      "02pb b possible history 02pb\n",
      "02pbb 0?pbb\n",
      "terminal -2\n",
      "02pb b expected utility -2\n",
      "best response value -1\n",
      "expected utility -1.0\n",
      "01 p expected utility -1.0\n",
      "01 b possible history 01\n",
      "01b 0?b\n",
      "01bp 0?bp\n",
      "terminal 1\n",
      "01bb 0?bb\n",
      "terminal -2\n",
      "expected utility -0.009219073335445804\n",
      "01 b expected utility -0.009219073335445804\n",
      "01 b possible history 02\n",
      "02b 0?b\n",
      "02bp 0?bp\n",
      "terminal 1\n",
      "02bb 0?bb\n",
      "terminal -2\n",
      "expected utility -1.9985\n",
      "01 b expected utility -1.9985\n",
      "best response value -0.9999999999999999\n"
     ]
    },
    {
     "data": {
      "text/plain": [
       "-0.9999999999999999"
      ]
     },
     "execution_count": 2,
     "metadata": {},
     "output_type": "execute_result"
    }
   ],
   "source": [
    "compute_exploitability(\"01\", 0, table)"
   ]
  },
  {
   "cell_type": "code",
   "execution_count": 5,
   "metadata": {},
   "outputs": [
    {
     "data": {
      "text/plain": [
       "0.027777777777777776"
      ]
     },
     "execution_count": 5,
     "metadata": {},
     "output_type": "execute_result"
    }
   ],
   "source": [
    "calculate_p_i(\"01\", 0, table)"
   ]
  },
  {
   "cell_type": "code",
   "execution_count": null,
   "metadata": {},
   "outputs": [],
   "source": []
  },
  {
   "cell_type": "code",
   "execution_count": 6,
   "metadata": {},
   "outputs": [
    {
     "data": {
      "text/plain": [
       "{'0?': {'regret_sum': [1.3688598753509396, 0.1656809861099741],\n",
       "  'strategy_sum': [268.6726747018944, 64.66065863143827],\n",
       "  'regret_update': [0.0, 0.0],\n",
       "  'visit': 4000},\n",
       " '?1p': {'regret_sum': [0.039870803665471244, -69.2455460355977],\n",
       "  'strategy_sum': [332.16666666666947, 1.1666666666666665],\n",
       "  'regret_update': [0.0, 0.0],\n",
       "  'visit': 4000},\n",
       " '0?pb': {'regret_sum': [0.08333333333333333, -166.99999999999923],\n",
       "  'strategy_sum': [268.58934136856107, 0.08333333333333333],\n",
       "  'regret_update': [0.0, 0.0],\n",
       "  'visit': 4000},\n",
       " '?1b': {'regret_sum': [1.3095625182447201, 0.7232845332048911],\n",
       "  'strategy_sum': [221.19788074050615, 112.13545259282738],\n",
       "  'regret_update': [0.0, 0.0],\n",
       "  'visit': 4000},\n",
       " '?2p': {'regret_sum': [-87.78217483876756, 0.02083333333333333],\n",
       "  'strategy_sum': [0.3333333333333333, 333.0000000000029],\n",
       "  'regret_update': [0.0, 0.0],\n",
       "  'visit': 4000},\n",
       " '?2b': {'regret_sum': [-99.79101254282774, 0.5],\n",
       "  'strategy_sum': [0.16666666666666666, 333.1666666666696],\n",
       "  'regret_update': [0.0, 0.0],\n",
       "  'visit': 4000},\n",
       " '1?': {'regret_sum': [0.20669415530584456, -53.756529239373364],\n",
       "  'strategy_sum': [330.8359728663601, 2.497360466975892],\n",
       "  'regret_update': [0.0, 0.0],\n",
       "  'visit': 4000},\n",
       " '?0p': {'regret_sum': [2.041021981312889, 0.34922015877081725],\n",
       "  'strategy_sum': [222.3271383551052, 111.00619497822817],\n",
       "  'regret_update': [0.0, 0.0],\n",
       "  'visit': 4000},\n",
       " '1?pb': {'regret_sum': [1.3639149604258904, 1.3732074277682176],\n",
       "  'strategy_sum': [155.31385568497566, 175.52211718138136],\n",
       "  'regret_update': [0.0, 0.0],\n",
       "  'visit': 4000},\n",
       " '?0b': {'regret_sum': [0.16666666666666666, -98.37993006089157],\n",
       "  'strategy_sum': [333.1666666666696, 0.16666666666666666],\n",
       "  'regret_update': [0.0, 0.0],\n",
       "  'visit': 4000},\n",
       " '2?': {'regret_sum': [0.3019996182234345, 0.6166284255229824],\n",
       "  'strategy_sum': [138.62791677642133, 194.7054165569122],\n",
       "  'regret_update': [0.0, 0.0],\n",
       "  'visit': 4000},\n",
       " '2?pb': {'regret_sum': [-168.00929246734253, 0.25],\n",
       "  'strategy_sum': [0.08333333333333333, 138.544583443088],\n",
       "  'regret_update': [0.0, 0.0],\n",
       "  'visit': 4000}}"
      ]
     },
     "execution_count": 6,
     "metadata": {},
     "output_type": "execute_result"
    }
   ],
   "source": [
    "table"
   ]
  },
  {
   "cell_type": "code",
   "execution_count": null,
   "metadata": {},
   "outputs": [],
   "source": []
  }
 ],
 "metadata": {
  "kernelspec": {
   "display_name": "ut-thesis",
   "language": "python",
   "name": "python3"
  },
  "language_info": {
   "codemirror_mode": {
    "name": "ipython",
    "version": 3
   },
   "file_extension": ".py",
   "mimetype": "text/x-python",
   "name": "python",
   "nbconvert_exporter": "python",
   "pygments_lexer": "ipython3",
   "version": "3.8.16"
  }
 },
 "nbformat": 4,
 "nbformat_minor": 2
}
